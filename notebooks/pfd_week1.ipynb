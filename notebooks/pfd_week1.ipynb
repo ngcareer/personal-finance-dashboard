{
 "cells": [
  {
   "cell_type": "code",
   "execution_count": 16,
   "id": "88a73bcb-4a7f-44f4-9e95-d4d3404526e6",
   "metadata": {},
   "outputs": [
    {
     "data": {
      "text/html": [
       "<div>\n",
       "<style scoped>\n",
       "    .dataframe tbody tr th:only-of-type {\n",
       "        vertical-align: middle;\n",
       "    }\n",
       "\n",
       "    .dataframe tbody tr th {\n",
       "        vertical-align: top;\n",
       "    }\n",
       "\n",
       "    .dataframe thead th {\n",
       "        text-align: right;\n",
       "    }\n",
       "</style>\n",
       "<table border=\"1\" class=\"dataframe\">\n",
       "  <thead>\n",
       "    <tr style=\"text-align: right;\">\n",
       "      <th></th>\n",
       "      <th>Date</th>\n",
       "      <th>Category</th>\n",
       "      <th>Amount</th>\n",
       "    </tr>\n",
       "  </thead>\n",
       "  <tbody>\n",
       "    <tr>\n",
       "      <th>0</th>\n",
       "      <td>08/31/2025</td>\n",
       "      <td>Groceries</td>\n",
       "      <td>-58.38</td>\n",
       "    </tr>\n",
       "    <tr>\n",
       "      <th>1</th>\n",
       "      <td>08/31/2025</td>\n",
       "      <td>Dining Out</td>\n",
       "      <td>-14.77</td>\n",
       "    </tr>\n",
       "    <tr>\n",
       "      <th>2</th>\n",
       "      <td>08/31/2025</td>\n",
       "      <td>bills &amp; subscriptions</td>\n",
       "      <td>-13.39</td>\n",
       "    </tr>\n",
       "    <tr>\n",
       "      <th>3</th>\n",
       "      <td>08/31/2025</td>\n",
       "      <td>Books</td>\n",
       "      <td>-5.26</td>\n",
       "    </tr>\n",
       "    <tr>\n",
       "      <th>4</th>\n",
       "      <td>08/31/2025</td>\n",
       "      <td>Groceries</td>\n",
       "      <td>-2.99</td>\n",
       "    </tr>\n",
       "  </tbody>\n",
       "</table>\n",
       "</div>"
      ],
      "text/plain": [
       "         Date               Category  Amount\n",
       "0  08/31/2025              Groceries  -58.38\n",
       "1  08/31/2025             Dining Out  -14.77\n",
       "2  08/31/2025  bills & subscriptions  -13.39\n",
       "3  08/31/2025                  Books   -5.26\n",
       "4  08/31/2025              Groceries   -2.99"
      ]
     },
     "execution_count": 16,
     "metadata": {},
     "output_type": "execute_result"
    }
   ],
   "source": [
    "import pandas as pd\n",
    "\n",
    "# importing the data csv\n",
    "df = pd.read_csv(\"../data/ynab_export.csv\")\n",
    "\n",
    "# cleaning inflow and outflow\n",
    "df['Inflow'] = df['Inflow'].replace('[$,]', '', regex=True).astype(float)\n",
    "df['Outflow'] = df['Outflow'].replace('[$,]', '', regex=True).astype(float)\n",
    "\n",
    "#combining inflow and outflow into a single amount column\n",
    "df['Amount'] = df['Inflow'] - df['Outflow']\n",
    "\n",
    "#selecting which columns to show\n",
    "df = df[['Date', 'Category', 'Amount']]\n",
    "\n",
    "#printing for verification\n",
    "df.head()"
   ]
  },
  {
   "cell_type": "code",
   "execution_count": 17,
   "id": "c4c8cff3-2a58-4450-a4a9-201095544a1c",
   "metadata": {},
   "outputs": [
    {
     "name": "stdout",
     "output_type": "stream",
     "text": [
      "| Category                            | Amount_Display   |\n",
      "|-------------------------------------|------------------|\n",
      "| Rent & utilities                    | -$946.18         |\n",
      "| Groceries                           | -$517.57         |\n",
      "| bills & subscriptions               | -$428.92         |\n",
      "| 📉 Sofi Personal Loan (#2)          | -$287.34         |\n",
      "| sports & rec                        | -$273.64         |\n",
      "| 🚗 Ally Auto Loan (#3)              | -$144.03         |\n",
      "| 📉 SoFi Student Loan (top priority) | -$129.18         |\n",
      "| gas & parking                       | -$123.14         |\n",
      "| car maintenance                     | -$96.62          |\n",
      "| Dining Out                          | -$90.04          |\n",
      "| home accessories                    | -$88.41          |\n",
      "| Entertainment                       | -$49.57          |\n",
      "| technology purchases                | -$20.00          |\n",
      "| Personal Care                       | -$15.29          |\n",
      "| Financial Costs & Investing         | -$15.26          |\n",
      "| Books                               | -$5.26           |\n",
      "| prescriptions                       | $0.00            |\n",
      "| -----                               |                  |\n",
      "| TOTAL                               | -$3,230.45       |\n"
     ]
    }
   ],
   "source": [
    "import numpy as np\n",
    "from tabulate import tabulate\n",
    "\n",
    "# grouping categories by their summed amount, removing 'Ready to Assign', & sorting summed values\n",
    "summary = (\n",
    "    df.groupby('Category', as_index=False)['Amount'].sum()\n",
    "      .query(\"Category != 'Ready to Assign'\")\n",
    "      .sort_values('Amount', ignore_index=True)\n",
    ")\n",
    "\n",
    "# building the rows of the table then adding total with a seperator row\n",
    "total = float(summary['Amount'].sum())\n",
    "rows = summary[['Category','Amount']].to_dict('records')\n",
    "rows.append({'Category': '-----', 'Amount': np.nan})\n",
    "rows.append({'Category': 'TOTAL', 'Amount': total})\n",
    "\n",
    "# putting the table together\n",
    "summary_with_total = pd.DataFrame(rows)\n",
    "\n",
    "# adding $ to all amounts\n",
    "summary_with_total['Amount_Display'] = summary_with_total['Amount'].map(\n",
    "    lambda x: \"\" if pd.isna(x) else f\"-${abs(x):,.2f}\" if x < 0 else f\"${x:,.2f}\"\n",
    ")\n",
    "\n",
    "# final print\n",
    "print(tabulate(summary_with_total[['Category','Amount_Display']],\n",
    "               headers='keys', tablefmt='github', showindex=False))\n"
   ]
  },
  {
   "cell_type": "code",
   "execution_count": null,
   "id": "8c3cd570-0234-4c09-92be-5efef889b38c",
   "metadata": {},
   "outputs": [],
   "source": []
  }
 ],
 "metadata": {
  "kernelspec": {
   "display_name": "Python 3 (ipykernel)",
   "language": "python",
   "name": "python3"
  },
  "language_info": {
   "codemirror_mode": {
    "name": "ipython",
    "version": 3
   },
   "file_extension": ".py",
   "mimetype": "text/x-python",
   "name": "python",
   "nbconvert_exporter": "python",
   "pygments_lexer": "ipython3",
   "version": "3.12.2"
  }
 },
 "nbformat": 4,
 "nbformat_minor": 5
}
